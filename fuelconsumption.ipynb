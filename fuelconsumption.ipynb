{
 "cells": [
  {
   "cell_type": "code",
   "execution_count": 1,
   "id": "e6195bda-7ff2-4308-8435-ebd1d1bb42c9",
   "metadata": {},
   "outputs": [],
   "source": [
    "import matplotlib.pyplot as plt\n",
    "import pandas as pd\n",
    "import pylab as pl\n",
    "import numpy as np"
   ]
  },
  {
   "cell_type": "code",
   "execution_count": 2,
   "id": "35f04f3f-b443-4d42-9be2-b57c3686a186",
   "metadata": {},
   "outputs": [],
   "source": [
    "df = pd.read_csv(\"fuelconsumption2021.csv\")"
   ]
  },
  {
   "cell_type": "code",
   "execution_count": 3,
   "id": "0928ed45-dafb-4147-aad3-d77b44218b4f",
   "metadata": {},
   "outputs": [
    {
     "data": {
      "text/html": [
       "<div>\n",
       "<style scoped>\n",
       "    .dataframe tbody tr th:only-of-type {\n",
       "        vertical-align: middle;\n",
       "    }\n",
       "\n",
       "    .dataframe tbody tr th {\n",
       "        vertical-align: top;\n",
       "    }\n",
       "\n",
       "    .dataframe thead th {\n",
       "        text-align: right;\n",
       "    }\n",
       "</style>\n",
       "<table border=\"1\" class=\"dataframe\">\n",
       "  <thead>\n",
       "    <tr style=\"text-align: right;\">\n",
       "      <th></th>\n",
       "      <th>Model</th>\n",
       "      <th>Make</th>\n",
       "      <th>Model.1</th>\n",
       "      <th>Vehicle</th>\n",
       "      <th>Engine</th>\n",
       "      <th>Cylinders</th>\n",
       "      <th>Transmission</th>\n",
       "      <th>Fueltype</th>\n",
       "      <th>FuelConsumption_city</th>\n",
       "      <th>FuelConsumption_Hwy</th>\n",
       "      <th>FuelConsumption_Comb</th>\n",
       "      <th>Unnamed: 11</th>\n",
       "      <th>Emissions</th>\n",
       "      <th>CO2rating</th>\n",
       "      <th>Smograting</th>\n",
       "    </tr>\n",
       "  </thead>\n",
       "  <tbody>\n",
       "    <tr>\n",
       "      <th>0</th>\n",
       "      <td>2021</td>\n",
       "      <td>Acura</td>\n",
       "      <td>ILX</td>\n",
       "      <td>Compact</td>\n",
       "      <td>2.4</td>\n",
       "      <td>4</td>\n",
       "      <td>AM8</td>\n",
       "      <td>Z</td>\n",
       "      <td>9.9</td>\n",
       "      <td>7.0</td>\n",
       "      <td>8.6</td>\n",
       "      <td>33</td>\n",
       "      <td>199</td>\n",
       "      <td>6</td>\n",
       "      <td>3</td>\n",
       "    </tr>\n",
       "    <tr>\n",
       "      <th>1</th>\n",
       "      <td>2021</td>\n",
       "      <td>Acura</td>\n",
       "      <td>NSX</td>\n",
       "      <td>Two-seater</td>\n",
       "      <td>3.5</td>\n",
       "      <td>6</td>\n",
       "      <td>AM9</td>\n",
       "      <td>Z</td>\n",
       "      <td>11.1</td>\n",
       "      <td>10.8</td>\n",
       "      <td>11.0</td>\n",
       "      <td>26</td>\n",
       "      <td>256</td>\n",
       "      <td>4</td>\n",
       "      <td>3</td>\n",
       "    </tr>\n",
       "    <tr>\n",
       "      <th>2</th>\n",
       "      <td>2021</td>\n",
       "      <td>Acura</td>\n",
       "      <td>RDX SH-AWD</td>\n",
       "      <td>SUV: Small</td>\n",
       "      <td>2.0</td>\n",
       "      <td>4</td>\n",
       "      <td>AS10</td>\n",
       "      <td>Z</td>\n",
       "      <td>11.0</td>\n",
       "      <td>8.6</td>\n",
       "      <td>9.9</td>\n",
       "      <td>29</td>\n",
       "      <td>232</td>\n",
       "      <td>5</td>\n",
       "      <td>6</td>\n",
       "    </tr>\n",
       "    <tr>\n",
       "      <th>3</th>\n",
       "      <td>2021</td>\n",
       "      <td>Acura</td>\n",
       "      <td>RDX SH-AWD A-SPEC</td>\n",
       "      <td>SUV: Small</td>\n",
       "      <td>2.0</td>\n",
       "      <td>4</td>\n",
       "      <td>AS10</td>\n",
       "      <td>Z</td>\n",
       "      <td>11.3</td>\n",
       "      <td>9.1</td>\n",
       "      <td>10.3</td>\n",
       "      <td>27</td>\n",
       "      <td>242</td>\n",
       "      <td>5</td>\n",
       "      <td>6</td>\n",
       "    </tr>\n",
       "    <tr>\n",
       "      <th>4</th>\n",
       "      <td>2021</td>\n",
       "      <td>Acura</td>\n",
       "      <td>TLX SH-AWD</td>\n",
       "      <td>Compact</td>\n",
       "      <td>2.0</td>\n",
       "      <td>4</td>\n",
       "      <td>AS10</td>\n",
       "      <td>Z</td>\n",
       "      <td>11.2</td>\n",
       "      <td>8.0</td>\n",
       "      <td>9.8</td>\n",
       "      <td>29</td>\n",
       "      <td>230</td>\n",
       "      <td>5</td>\n",
       "      <td>7</td>\n",
       "    </tr>\n",
       "    <tr>\n",
       "      <th>5</th>\n",
       "      <td>2021</td>\n",
       "      <td>Acura</td>\n",
       "      <td>TLX SH-AWD A-SPEC</td>\n",
       "      <td>Compact</td>\n",
       "      <td>2.0</td>\n",
       "      <td>4</td>\n",
       "      <td>AS10</td>\n",
       "      <td>Z</td>\n",
       "      <td>11.3</td>\n",
       "      <td>8.1</td>\n",
       "      <td>9.8</td>\n",
       "      <td>29</td>\n",
       "      <td>231</td>\n",
       "      <td>5</td>\n",
       "      <td>7</td>\n",
       "    </tr>\n",
       "    <tr>\n",
       "      <th>6</th>\n",
       "      <td>2021</td>\n",
       "      <td>Alfa Romeo</td>\n",
       "      <td>Giulia</td>\n",
       "      <td>Mid-size</td>\n",
       "      <td>2.0</td>\n",
       "      <td>4</td>\n",
       "      <td>A8</td>\n",
       "      <td>Z</td>\n",
       "      <td>10.0</td>\n",
       "      <td>7.2</td>\n",
       "      <td>8.7</td>\n",
       "      <td>32</td>\n",
       "      <td>205</td>\n",
       "      <td>6</td>\n",
       "      <td>3</td>\n",
       "    </tr>\n",
       "    <tr>\n",
       "      <th>7</th>\n",
       "      <td>2021</td>\n",
       "      <td>Alfa Romeo</td>\n",
       "      <td>Giulia AWD</td>\n",
       "      <td>Mid-size</td>\n",
       "      <td>2.0</td>\n",
       "      <td>4</td>\n",
       "      <td>A8</td>\n",
       "      <td>Z</td>\n",
       "      <td>10.5</td>\n",
       "      <td>7.7</td>\n",
       "      <td>9.2</td>\n",
       "      <td>31</td>\n",
       "      <td>217</td>\n",
       "      <td>5</td>\n",
       "      <td>3</td>\n",
       "    </tr>\n",
       "    <tr>\n",
       "      <th>8</th>\n",
       "      <td>2021</td>\n",
       "      <td>Alfa Romeo</td>\n",
       "      <td>Giulia Quadrifoglio</td>\n",
       "      <td>Mid-size</td>\n",
       "      <td>2.9</td>\n",
       "      <td>6</td>\n",
       "      <td>A8</td>\n",
       "      <td>Z</td>\n",
       "      <td>13.5</td>\n",
       "      <td>9.3</td>\n",
       "      <td>11.6</td>\n",
       "      <td>24</td>\n",
       "      <td>271</td>\n",
       "      <td>4</td>\n",
       "      <td>3</td>\n",
       "    </tr>\n",
       "  </tbody>\n",
       "</table>\n",
       "</div>"
      ],
      "text/plain": [
       "   Model        Make              Model.1     Vehicle  Engine  Cylinders  \\\n",
       "0   2021       Acura                  ILX     Compact     2.4          4   \n",
       "1   2021       Acura                  NSX  Two-seater     3.5          6   \n",
       "2   2021       Acura           RDX SH-AWD  SUV: Small     2.0          4   \n",
       "3   2021       Acura    RDX SH-AWD A-SPEC  SUV: Small     2.0          4   \n",
       "4   2021       Acura           TLX SH-AWD     Compact     2.0          4   \n",
       "5   2021       Acura    TLX SH-AWD A-SPEC     Compact     2.0          4   \n",
       "6   2021  Alfa Romeo               Giulia    Mid-size     2.0          4   \n",
       "7   2021  Alfa Romeo           Giulia AWD    Mid-size     2.0          4   \n",
       "8   2021  Alfa Romeo  Giulia Quadrifoglio    Mid-size     2.9          6   \n",
       "\n",
       "  Transmission Fueltype  FuelConsumption_city  FuelConsumption_Hwy  \\\n",
       "0          AM8        Z                   9.9                  7.0   \n",
       "1          AM9        Z                  11.1                 10.8   \n",
       "2         AS10        Z                  11.0                  8.6   \n",
       "3         AS10        Z                  11.3                  9.1   \n",
       "4         AS10        Z                  11.2                  8.0   \n",
       "5         AS10        Z                  11.3                  8.1   \n",
       "6           A8        Z                  10.0                  7.2   \n",
       "7           A8        Z                  10.5                  7.7   \n",
       "8           A8        Z                  13.5                  9.3   \n",
       "\n",
       "   FuelConsumption_Comb  Unnamed: 11  Emissions  CO2rating  Smograting  \n",
       "0                   8.6           33        199          6           3  \n",
       "1                  11.0           26        256          4           3  \n",
       "2                   9.9           29        232          5           6  \n",
       "3                  10.3           27        242          5           6  \n",
       "4                   9.8           29        230          5           7  \n",
       "5                   9.8           29        231          5           7  \n",
       "6                   8.7           32        205          6           3  \n",
       "7                   9.2           31        217          5           3  \n",
       "8                  11.6           24        271          4           3  "
      ]
     },
     "execution_count": 3,
     "metadata": {},
     "output_type": "execute_result"
    }
   ],
   "source": [
    "df.head(9)"
   ]
  },
  {
   "cell_type": "code",
   "execution_count": 4,
   "id": "c05a5d88-9c8a-4135-bbed-cf2d073e50a1",
   "metadata": {},
   "outputs": [
    {
     "name": "stdout",
     "output_type": "stream",
     "text": [
      "<class 'pandas.core.frame.DataFrame'>\n",
      "RangeIndex: 876 entries, 0 to 875\n",
      "Data columns (total 15 columns):\n",
      " #   Column                Non-Null Count  Dtype  \n",
      "---  ------                --------------  -----  \n",
      " 0   Model                 876 non-null    int64  \n",
      " 1   Make                  876 non-null    object \n",
      " 2   Model.1               876 non-null    object \n",
      " 3   Vehicle               876 non-null    object \n",
      " 4   Engine                876 non-null    float64\n",
      " 5   Cylinders             876 non-null    int64  \n",
      " 6   Transmission          876 non-null    object \n",
      " 7   Fueltype              876 non-null    object \n",
      " 8   FuelConsumption_city  876 non-null    float64\n",
      " 9   FuelConsumption_Hwy   876 non-null    float64\n",
      " 10  FuelConsumption_Comb  876 non-null    float64\n",
      " 11  Unnamed: 11           876 non-null    int64  \n",
      " 12  Emissions             876 non-null    int64  \n",
      " 13  CO2rating             876 non-null    int64  \n",
      " 14  Smograting            876 non-null    int64  \n",
      "dtypes: float64(4), int64(6), object(5)\n",
      "memory usage: 102.8+ KB\n"
     ]
    }
   ],
   "source": [
    "df.info()"
   ]
  },
  {
   "cell_type": "code",
   "execution_count": 5,
   "id": "815c9020-3cf3-46ed-b3df-782ce467020e",
   "metadata": {},
   "outputs": [],
   "source": [
    "cdf=df[['Engine','Cylinders','FuelConsumption_Comb','Emissions']]"
   ]
  },
  {
   "cell_type": "code",
   "execution_count": 6,
   "id": "284a8bb4-0db8-4ee0-afec-8185f7f663d5",
   "metadata": {},
   "outputs": [],
   "source": [
    "y=cdf['Emissions']\n",
    "x=cdf.drop(columns='Emissions')"
   ]
  },
  {
   "cell_type": "code",
   "execution_count": 7,
   "id": "ca9149e0-106f-4771-8821-4c1864fa13ba",
   "metadata": {},
   "outputs": [
    {
     "data": {
      "text/plain": [
       "0      199\n",
       "1      256\n",
       "2      232\n",
       "3      242\n",
       "4      230\n",
       "      ... \n",
       "871    219\n",
       "872    230\n",
       "873    240\n",
       "874    236\n",
       "875    245\n",
       "Name: Emissions, Length: 876, dtype: int64"
      ]
     },
     "execution_count": 7,
     "metadata": {},
     "output_type": "execute_result"
    }
   ],
   "source": [
    "y"
   ]
  },
  {
   "cell_type": "code",
   "execution_count": 8,
   "id": "4f5337ff-2fc8-4798-86ed-96c00d849c81",
   "metadata": {},
   "outputs": [],
   "source": [
    "from sklearn import linear_model\n",
    "from sklearn import metrics\n",
    "from sklearn import preprocessing\n",
    "from sklearn import compose\n",
    "from sklearn import pipeline"
   ]
  },
  {
   "cell_type": "code",
   "execution_count": null,
   "id": "ee336a06-e254-4a31-b0a3-934b87a984a3",
   "metadata": {},
   "outputs": [],
   "source": []
  },
  {
   "cell_type": "code",
   "execution_count": 9,
   "id": "aa704996-7ad7-4e05-a60e-4a72b17d1b35",
   "metadata": {},
   "outputs": [],
   "source": [
    "from sklearn import model_selection"
   ]
  },
  {
   "cell_type": "code",
   "execution_count": 10,
   "id": "3ac49b24-c49d-4650-9b9a-95507faf5d20",
   "metadata": {},
   "outputs": [],
   "source": [
    "trainx,testx,trainy,test=model_selection.train_test_split(x,y,train_size=0.8,random_state=553)"
   ]
  },
  {
   "cell_type": "code",
   "execution_count": 11,
   "id": "ed6f40b5-cd85-4b2a-acf0-25fd2674c41a",
   "metadata": {},
   "outputs": [],
   "source": [
    "ohe=preprocessing.OneHotEncoder()"
   ]
  },
  {
   "cell_type": "code",
   "execution_count": 12,
   "id": "a1ca6bfc-2902-46a5-b8a2-dd4193e52efc",
   "metadata": {},
   "outputs": [
    {
     "data": {
      "text/plain": [
       "OneHotEncoder()"
      ]
     },
     "execution_count": 12,
     "metadata": {},
     "output_type": "execute_result"
    }
   ],
   "source": [
    "ohe.fit(x[['Engine','Cylinders','FuelConsumption_Comb']])"
   ]
  },
  {
   "cell_type": "code",
   "execution_count": 13,
   "id": "8d9b2d3f-4d49-4080-a2fd-831de652d82b",
   "metadata": {},
   "outputs": [
    {
     "data": {
      "text/plain": [
       "[array([1. , 1.2, 1.3, 1.4, 1.5, 1.6, 1.8, 2. , 2.3, 2.4, 2.5, 2.7, 2.8,\n",
       "        2.9, 3. , 3.2, 3.3, 3.5, 3.6, 3.7, 3.8, 4. , 4.3, 4.4, 4.6, 5. ,\n",
       "        5.2, 5.3, 5.6, 5.7, 6. , 6.2, 6.4, 6.5, 6.6, 6.7, 8. ]),\n",
       " array([ 3,  4,  5,  6,  8, 10, 12, 16], dtype=int64),\n",
       " array([ 4. ,  4.2,  4.4,  4.5,  4.6,  4.8,  4.9,  5. ,  5.1,  5.3,  5.5,\n",
       "         5.6,  5.8,  5.9,  6. ,  6.1,  6.2,  6.4,  6.5,  6.7,  6.9,  7. ,\n",
       "         7.1,  7.2,  7.3,  7.4,  7.5,  7.6,  7.7,  7.8,  7.9,  8. ,  8.1,\n",
       "         8.2,  8.3,  8.4,  8.5,  8.6,  8.7,  8.8,  8.9,  9. ,  9.1,  9.2,\n",
       "         9.3,  9.4,  9.5,  9.6,  9.7,  9.8,  9.9, 10. , 10.1, 10.2, 10.3,\n",
       "        10.4, 10.5, 10.6, 10.7, 10.8, 10.9, 11. , 11.1, 11.2, 11.3, 11.4,\n",
       "        11.5, 11.6, 11.7, 11.8, 11.9, 12. , 12.1, 12.2, 12.3, 12.4, 12.5,\n",
       "        12.6, 12.7, 12.8, 12.9, 13. , 13.1, 13.2, 13.3, 13.4, 13.5, 13.6,\n",
       "        13.7, 13.8, 13.9, 14. , 14.1, 14.2, 14.3, 14.4, 14.5, 14.6, 14.7,\n",
       "        14.8, 14.9, 15. , 15.1, 15.2, 15.3, 15.4, 15.6, 15.7, 15.9, 16. ,\n",
       "        16.3, 16.4, 16.5, 16.6, 16.7, 16.9, 17.4, 17.6, 17.7, 18.3, 19. ,\n",
       "        19.3, 19.5, 19.8, 19.9, 22.2, 22.4, 26.1])]"
      ]
     },
     "execution_count": 13,
     "metadata": {},
     "output_type": "execute_result"
    }
   ],
   "source": [
    "ohe.categories_"
   ]
  },
  {
   "cell_type": "code",
   "execution_count": 14,
   "id": "272aca89-c6f3-4844-b321-8a763d20f833",
   "metadata": {},
   "outputs": [],
   "source": [
    "column_trans=compose.make_column_transformer((preprocessing.OneHotEncoder(categories=ohe.categories_),['Engine','Cylinders','FuelConsumption_Comb']),remainder='passthrough')\n"
   ]
  },
  {
   "cell_type": "code",
   "execution_count": 15,
   "id": "09a851c3-9b36-4e5b-85c6-86a693da5997",
   "metadata": {},
   "outputs": [
    {
     "name": "stdout",
     "output_type": "stream",
     "text": [
      "ColumnTransformer(remainder='passthrough',\n",
      "                  transformers=[('onehotencoder',\n",
      "                                 OneHotEncoder(categories=[array([1. , 1.2, 1.3, 1.4, 1.5, 1.6, 1.8, 2. , 2.3, 2.4, 2.5, 2.7, 2.8,\n",
      "       2.9, 3. , 3.2, 3.3, 3.5, 3.6, 3.7, 3.8, 4. , 4.3, 4.4, 4.6, 5. ,\n",
      "       5.2, 5.3, 5.6, 5.7, 6. , 6.2, 6.4, 6.5, 6.6, 6.7, 8. ]),\n",
      "                                                           array([ 3,  4,  5,  6,  8, 10, 12, 16], dtype=int64),\n",
      "                                                           array([ 4. ,  4.2,  4.4,  4.5,  4.6,  4.8,  4.9,  5. ,  5.1,  5.3,  5.5,\n",
      "        5.6,  5.8,  5.9,...\n",
      "       11.5, 11.6, 11.7, 11.8, 11.9, 12. , 12.1, 12.2, 12.3, 12.4, 12.5,\n",
      "       12.6, 12.7, 12.8, 12.9, 13. , 13.1, 13.2, 13.3, 13.4, 13.5, 13.6,\n",
      "       13.7, 13.8, 13.9, 14. , 14.1, 14.2, 14.3, 14.4, 14.5, 14.6, 14.7,\n",
      "       14.8, 14.9, 15. , 15.1, 15.2, 15.3, 15.4, 15.6, 15.7, 15.9, 16. ,\n",
      "       16.3, 16.4, 16.5, 16.6, 16.7, 16.9, 17.4, 17.6, 17.7, 18.3, 19. ,\n",
      "       19.3, 19.5, 19.8, 19.9, 22.2, 22.4, 26.1])]),\n",
      "                                 ['Engine', 'Cylinders',\n",
      "                                  'FuelConsumption_Comb'])])\n"
     ]
    }
   ],
   "source": [
    "print(column_trans)"
   ]
  },
  {
   "cell_type": "code",
   "execution_count": 16,
   "id": "30ff5bc9-78e5-4578-a604-d0e2af77d02a",
   "metadata": {},
   "outputs": [],
   "source": [
    "lr=linear_model.LinearRegression()"
   ]
  },
  {
   "cell_type": "code",
   "execution_count": 17,
   "id": "00e17079-7973-4334-ac8e-3524080c81e3",
   "metadata": {},
   "outputs": [],
   "source": [
    "pipe=pipeline.make_pipeline(column_trans,lr)"
   ]
  },
  {
   "cell_type": "code",
   "execution_count": 18,
   "id": "292b457f-83b8-4de5-a537-2622c15f0c85",
   "metadata": {},
   "outputs": [
    {
     "data": {
      "text/plain": [
       "Pipeline(steps=[('columntransformer',\n",
       "                 ColumnTransformer(remainder='passthrough',\n",
       "                                   transformers=[('onehotencoder',\n",
       "                                                  OneHotEncoder(categories=[array([1. , 1.2, 1.3, 1.4, 1.5, 1.6, 1.8, 2. , 2.3, 2.4, 2.5, 2.7, 2.8,\n",
       "       2.9, 3. , 3.2, 3.3, 3.5, 3.6, 3.7, 3.8, 4. , 4.3, 4.4, 4.6, 5. ,\n",
       "       5.2, 5.3, 5.6, 5.7, 6. , 6.2, 6.4, 6.5, 6.6, 6.7, 8. ]),\n",
       "                                                                            array([ 3,  4,  5,  6,  8, 10, 12, 16], dtype=int64),\n",
       "                                                                            array([ 4. ,  4.2,  4.4,  4.5,  4....\n",
       "       11.5, 11.6, 11.7, 11.8, 11.9, 12. , 12.1, 12.2, 12.3, 12.4, 12.5,\n",
       "       12.6, 12.7, 12.8, 12.9, 13. , 13.1, 13.2, 13.3, 13.4, 13.5, 13.6,\n",
       "       13.7, 13.8, 13.9, 14. , 14.1, 14.2, 14.3, 14.4, 14.5, 14.6, 14.7,\n",
       "       14.8, 14.9, 15. , 15.1, 15.2, 15.3, 15.4, 15.6, 15.7, 15.9, 16. ,\n",
       "       16.3, 16.4, 16.5, 16.6, 16.7, 16.9, 17.4, 17.6, 17.7, 18.3, 19. ,\n",
       "       19.3, 19.5, 19.8, 19.9, 22.2, 22.4, 26.1])]),\n",
       "                                                  ['Engine', 'Cylinders',\n",
       "                                                   'FuelConsumption_Comb'])])),\n",
       "                ('linearregression', LinearRegression())])"
      ]
     },
     "execution_count": 18,
     "metadata": {},
     "output_type": "execute_result"
    }
   ],
   "source": [
    "pipe.fit(trainx,trainy)"
   ]
  },
  {
   "cell_type": "code",
   "execution_count": 19,
   "id": "cd1efcea-22eb-48d0-8874-ed2d66eed67d",
   "metadata": {},
   "outputs": [
    {
     "data": {
      "text/plain": [
       "array([139.17460194, 248.16675433, 367.3044226 , 287.0311453 ,\n",
       "       340.3532741 , 177.06917614, 321.5134927 , 368.7518301 ,\n",
       "       217.2585734 , 273.51088964, 258.7648416 , 235.87968961,\n",
       "       226.4158422 , 289.47398045, 116.99999446, 260.26609439,\n",
       "       319.52441027, 278.27133441, 227.14291293, 297.85801905,\n",
       "       279.07793796, 252.55249593, 279.07793796, 237.54205623,\n",
       "       368.7518301 , 283.56905787, 252.55249593, 224.05295462,\n",
       "       258.28626541, 303.2523046 , 275.47042146, 325.54125569,\n",
       "       235.87968961, 184.95691796, 195.21693216, 194.3915375 ,\n",
       "       268.82270884, 207.02526476, 311.1633571 , 311.1633571 ,\n",
       "       242.45025286, 247.02318886, 164.16899493, 305.16246244,\n",
       "       244.99796264, 275.86921061, 331.40436806, 274.56582548,\n",
       "       290.35785263, 275.47042146, 274.84033066, 351.98858107,\n",
       "       278.27133441, 318.90901273, 340.3532741 , 213.92482752,\n",
       "       243.76407691, 262.9875163 , 349.09865618, 124.836608  ,\n",
       "       258.60177471, 212.39320293, 321.61795776, 273.37837231,\n",
       "       387.00000463, 156.71264734, 233.84205833, 212.39320293,\n",
       "       277.56391795, 279.07793796, 258.14940289, 166.31629013,\n",
       "       207.51514987, 215.37086973, 332.74701785, 236.11422141,\n",
       "       184.95691796, 156.71264734, 185.63570109, 207.7941447 ,\n",
       "       263.15058319, 243.76407691, 188.46917759, 208.89519522,\n",
       "       106.00000843, 167.93740944, 261.23585091, 207.7941447 ,\n",
       "       252.55249593, 283.56905787, 227.75295252, 192.85610069,\n",
       "       273.51088964, 247.00590364, 341.36813624, 311.1633571 ,\n",
       "       179.91780266, 235.87968961, 184.95691796, 314.44460055,\n",
       "       213.89951166, 113.84208057, 190.38356635, 322.52946506,\n",
       "       273.88559281, 264.15820376, 265.14576938, 375.13476064,\n",
       "       165.98836093, 304.16779492, 321.61795776, 233.84205833,\n",
       "       225.05104155, 164.49692413, 208.30370805, 180.74319731,\n",
       "       157.53804199, 236.02396205, 237.02360447, 279.44550047,\n",
       "       327.83661392, 185.63570109, 364.04205851, 338.36419166,\n",
       "       200.78354719, 322.52946506, 260.26609439, 195.76722548,\n",
       "       252.28238405, 343.08358114, 157.53804199, 222.7158443 ,\n",
       "       194.3915375 , 250.80779577, 238.26912696, 340.3532741 ,\n",
       "       321.61795776, 217.81985131, 177.84632026, 217.2585734 ,\n",
       "       213.57158246, 268.49869733, 252.68669692, 277.86949222,\n",
       "       284.95548046, 203.98647228, 261.06200651, 215.37086973,\n",
       "       207.7941447 , 364.04205851, 273.51088964, 372.9999909 ,\n",
       "       188.46917759, 240.86288282, 208.06980057, 200.02780093,\n",
       "       255.02990087, 214.90869278, 216.19626439, 237.54205623,\n",
       "       388.35375797, 213.73031324, 275.28441779, 278.05223147,\n",
       "       325.99998766, 293.88308165, 288.45783035, 262.72496103,\n",
       "       265.57068682, 237.02360447, 321.23985517, 225.05104155,\n",
       "       283.56905787, 243.1770442 , 309.08482682, 264.43696725])"
      ]
     },
     "execution_count": 19,
     "metadata": {},
     "output_type": "execute_result"
    }
   ],
   "source": [
    "pipe.predict(testx)"
   ]
  },
  {
   "cell_type": "code",
   "execution_count": 20,
   "id": "ee940d2c-f7c0-4e87-ac49-0613957dd36b",
   "metadata": {},
   "outputs": [
    {
     "data": {
      "text/plain": [
       "0.9854146971002757"
      ]
     },
     "execution_count": 20,
     "metadata": {},
     "output_type": "execute_result"
    }
   ],
   "source": [
    "metrics.r2_score(test,pipe.predict(testx))"
   ]
  },
  {
   "cell_type": "code",
   "execution_count": 21,
   "id": "c0764c52-a740-489e-a6ae-a36fe782a385",
   "metadata": {},
   "outputs": [
    {
     "name": "stdout",
     "output_type": "stream",
     "text": [
      "<class 'pandas.core.frame.DataFrame'>\n",
      "RangeIndex: 876 entries, 0 to 875\n",
      "Data columns (total 15 columns):\n",
      " #   Column                Non-Null Count  Dtype  \n",
      "---  ------                --------------  -----  \n",
      " 0   Model                 876 non-null    int64  \n",
      " 1   Make                  876 non-null    object \n",
      " 2   Model.1               876 non-null    object \n",
      " 3   Vehicle               876 non-null    object \n",
      " 4   Engine                876 non-null    float64\n",
      " 5   Cylinders             876 non-null    int64  \n",
      " 6   Transmission          876 non-null    object \n",
      " 7   Fueltype              876 non-null    object \n",
      " 8   FuelConsumption_city  876 non-null    float64\n",
      " 9   FuelConsumption_Hwy   876 non-null    float64\n",
      " 10  FuelConsumption_Comb  876 non-null    float64\n",
      " 11  Unnamed: 11           876 non-null    int64  \n",
      " 12  Emissions             876 non-null    int64  \n",
      " 13  CO2rating             876 non-null    int64  \n",
      " 14  Smograting            876 non-null    int64  \n",
      "dtypes: float64(4), int64(6), object(5)\n",
      "memory usage: 102.8+ KB\n"
     ]
    }
   ],
   "source": [
    "df.info()"
   ]
  },
  {
   "cell_type": "code",
   "execution_count": 25,
   "id": "7a743805-a7c4-4950-93fd-147e85b20ffd",
   "metadata": {},
   "outputs": [
    {
     "data": {
      "text/plain": [
       "array([347.38321127])"
      ]
     },
     "execution_count": 25,
     "metadata": {},
     "output_type": "execute_result"
    }
   ],
   "source": [
    "# pipe.predict(pd.DataFrame([[4,8,15.8]],columns=['Engine','Cylinders','FuelConsumption_Comb']))\n",
    "pipe.predict(pd.DataFrame([[4,8,15,]],columns=['Engine','Cylinders','FuelConsumption_Comb']))"
   ]
  },
  {
   "cell_type": "code",
   "execution_count": null,
   "id": "8b69aa0e-c88c-45fc-99ff-d3c1263db25a",
   "metadata": {},
   "outputs": [],
   "source": []
  },
  {
   "cell_type": "code",
   "execution_count": null,
   "id": "d20ffe02-d190-4a69-af46-10a82929e19f",
   "metadata": {},
   "outputs": [],
   "source": []
  }
 ],
 "metadata": {
  "kernelspec": {
   "display_name": "Python 3",
   "language": "python",
   "name": "python3"
  },
  "language_info": {
   "codemirror_mode": {
    "name": "ipython",
    "version": 3
   },
   "file_extension": ".py",
   "mimetype": "text/x-python",
   "name": "python",
   "nbconvert_exporter": "python",
   "pygments_lexer": "ipython3",
   "version": "3.9.1"
  }
 },
 "nbformat": 4,
 "nbformat_minor": 5
}
